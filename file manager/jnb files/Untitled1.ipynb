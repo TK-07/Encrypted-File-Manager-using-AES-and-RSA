{
 "cells": [
  {
   "cell_type": "code",
   "execution_count": 2,
   "metadata": {},
   "outputs": [],
   "source": [
    "from tkinter import * \n",
    "from tkinter.ttk import *\n",
    "  \n",
    "# importing askopenfile function\n",
    "# from class filedialog\n",
    "from tkinter.filedialog import askopenfile\n",
    "  \n",
    "root = Tk()\n",
    "root.geometry('400x200')\n",
    "  \n",
    "# This function will be used to open\n",
    "# file in read mode and only Python files\n",
    "# will be opened\n",
    "def open_file():\n",
    "    file = askopenfile(mode ='r')\n",
    "    if file is not None:\n",
    "        content = file.read()\n",
    "        print(content)\n",
    "  \n",
    "btn = Button(root, text ='', command = lambda:open_file())\n",
    "btn.pack(side = TOP, pady = 10)\n",
    "  \n",
    "mainloop()"
   ]
  },
  {
   "cell_type": "code",
   "execution_count": 4,
   "metadata": {},
   "outputs": [
    {
     "name": "stdout",
     "output_type": "stream",
     "text": [
      "Enter master key: ········\n",
      "the master key is :\n",
      "kjsahkjfh\n"
     ]
    }
   ],
   "source": [
    "import getpass\n",
    "x=getpass.getpass(\"Enter master key: \")\n",
    "print(\"the master key is :\")\n",
    "print(x)"
   ]
  },
  {
   "cell_type": "code",
   "execution_count": null,
   "metadata": {},
   "outputs": [],
   "source": []
  }
 ],
 "metadata": {
  "kernelspec": {
   "display_name": "Python 3",
   "language": "python",
   "name": "python3"
  },
  "language_info": {
   "codemirror_mode": {
    "name": "ipython",
    "version": 3
   },
   "file_extension": ".py",
   "mimetype": "text/x-python",
   "name": "python",
   "nbconvert_exporter": "python",
   "pygments_lexer": "ipython3",
   "version": "3.6.6"
  }
 },
 "nbformat": 4,
 "nbformat_minor": 4
}
